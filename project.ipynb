{
 "cells": [
  {
   "cell_type": "code",
   "execution_count": null,
   "id": "471bd61e-2563-4add-b00d-f3507fea3eb2",
   "metadata": {},
   "outputs": [],
   "source": [
    "pip install anthropic"
   ]
  },
  {
   "cell_type": "markdown",
   "id": "72a274e3-b987-4906-aaeb-f27549b12989",
   "metadata": {},
   "source": [
    "### Setup your own API key\n",
    "* Login & setup your API key from here (https://console.anthropic.com/settings/keys)\n",
    "* Paste your API key in the following inverted commas"
   ]
  },
  {
   "cell_type": "code",
   "execution_count": null,
   "id": "de0716a7-5cb9-4d69-b058-02d92514c023",
   "metadata": {},
   "outputs": [],
   "source": [
    "import os\n",
    "# Set the environment variable within the notebook\n",
    "os.environ[\"ANTHROPIC_API_KEY\"] = \"API_KEY\""
   ]
  },
  {
   "cell_type": "markdown",
   "id": "6932a01b-c699-44bb-bc1a-4021fb4c7423",
   "metadata": {},
   "source": [
    "***Following code is just a sample, your task is to encapsulate this code in a function with arguments of your choice so that function can be reused***"
   ]
  },
  {
   "cell_type": "markdown",
   "id": "4094679c-9f31-4b86-9e54-1fd6aaef5c14",
   "metadata": {},
   "source": [
    "#### Following link is for reference: https://docs.anthropic.com/en/docs/initial-setup#next-steps"
   ]
  },
  {
   "cell_type": "code",
   "execution_count": null,
   "id": "a63d675d-8a9d-4e86-afb7-79fab3293908",
   "metadata": {},
   "outputs": [],
   "source": [
    "import anthropic\n",
    "\n",
    "client = anthropic.Anthropic()\n",
    "\n",
    "message = client.messages.create(\n",
    "    model=\"claude-3-5-sonnet-20241022\",\n",
    "    max_tokens=1000,\n",
    "    temperature=0,\n",
    "    system=\"You are a world-class poet. Respond only with short poems.\",\n",
    "    messages=[\n",
    "        {\n",
    "            \"role\": \"user\",\n",
    "            \"content\": [\n",
    "                {\n",
    "                    \"type\": \"text\",\n",
    "                    \"text\": \"Why is the ocean salty?\"\n",
    "                }\n",
    "            ]\n",
    "        }\n",
    "    ]\n",
    ")\n",
    "print(message.content)\n"
   ]
  },
  {
   "cell_type": "code",
   "execution_count": null,
   "id": "138dc271",
   "metadata": {},
   "outputs": [],
   "source": [
    "from groq import Groq\n",
    "client = Groq(\n",
    "    api_key=\"API_KEY\"\n",
    ")"
   ]
  },
  {
   "cell_type": "code",
   "execution_count": null,
   "id": "a77833fc",
   "metadata": {},
   "outputs": [],
   "source": [
    "import os\n",
    "import csv\n",
    "import json\n",
    "import time\n",
    "from groq import Groq\n",
    "\n",
    "\n",
    "reviews=[]\n",
    "with open('reviews.csv', mode='r', encoding='utf-8') as file:\n",
    "    reader=csv.DictReader(file)\n",
    "    for row in reader:\n",
    "        reviews.append(row)\n",
    "\n",
    "\n",
    "def categorize_review(review_text):\n",
    "    prompt_food=f\"\"\"\n",
    "    Please extract only the comments that specifically describe the quality of the food in the following review. \n",
    "    Do **not** include any comments about the service, staff, or anything unrelated to the food. \n",
    "    Be specific about how the food tasted, the presentation, or the overall dining experience related to the food itself.\n",
    "    Here is the review: \"{review_text}\"\n",
    "    \"\"\"\n",
    "\n",
    "    prompt_service=f\"\"\"\n",
    "    Please extract only the comments that specifically describe the staff or service in the following review. \n",
    "    Do **not** include any comments about the food, taste, or anything unrelated to the service or staff. \n",
    "    Be specific about the behavior, attentiveness, professionalism, and attitude of the staff during the dining experience.\n",
    "    Here is the review: \"{review_text}\"\n",
    "    \"\"\"\n",
    "    \n",
    "    food_response=client.chat.completions.create(\n",
    "        messages=[{\"role\": \"user\", \"content\": prompt_food}],\n",
    "        model=\"llama3-8b-8192\"\n",
    "    )\n",
    "    \n",
    "    service_response=client.chat.completions.create(\n",
    "        messages=[{\"role\": \"user\", \"content\": prompt_service}],\n",
    "        model=\"llama3-8b-8192\"\n",
    "    )\n",
    "    \n",
    "    food_comments=food_response.choices[0].message.content.strip()\n",
    "    service_comments=service_response.choices[0].message.content.strip()\n",
    "\n",
    "    print(\"Food Comments: \", food_comments)\n",
    "    print(\"Service Comments: \", service_comments)\n",
    "    \n",
    "    return {\n",
    "        \"food_comments\": food_comments,\n",
    "        \"service_comments\": service_comments\n",
    "    }\n",
    "\n",
    "\n",
    "with open('processed_reviews.json', 'w', encoding='utf-8') as json_file:\n",
    "    \n",
    "    json_file.write('[')\n",
    "\n",
    "\n",
    "processed_reviews=[]\n",
    "\n",
    "\n",
    "batch_size=30\n",
    "total_reviews=len(reviews)\n",
    "\n",
    "for i in range(0, total_reviews, batch_size):\n",
    "    batch=reviews[i:i + batch_size]\n",
    "    \n",
    "    for review in batch:\n",
    "        review_text=review['review_text']\n",
    "        \n",
    "        categorized_data=categorize_review(review_text)\n",
    "        \n",
    "        categorized_data[\"food_comments\"]=categorized_data[\"food_comments\"].replace(\"personal information\", \"\")\n",
    "        categorized_data[\"service_comments\"]=categorized_data[\"service_comments\"].replace(\"personal information\", \"\")\n",
    "        \n",
    "        processed_review={\n",
    "            \"restaurant_name\": review['restaurant_name'],\n",
    "            \"review_rating\": review['review_rating'],\n",
    "            \"food_comments\": categorized_data[\"food_comments\"],\n",
    "            \"service_comments\": categorized_data[\"service_comments\"]\n",
    "        }\n",
    "\n",
    "        with open('processed_reviews.json', 'a', encoding='utf-8') as json_file:\n",
    "            if i > 0 or len(processed_reviews) > 0:\n",
    "                json_file.write(',\\n')\n",
    "            json.dump(processed_review, json_file, ensure_ascii=False, indent=4)\n",
    "\n",
    "    print(f\"Processed batch {i // batch_size + 1} of {total_reviews // batch_size + 1}. Waiting for 60 seconds...\")\n",
    "    #time.sleep(60)\n",
    "\n",
    "with open('processed_reviews.json', 'a', encoding='utf-8') as json_file:\n",
    "    if i == 0 and len(processed_reviews) == 0:\n",
    "        json_file.write('[')  \n",
    "    elif i > 0 or len(processed_reviews) > 0:\n",
    "        json_file.write(',\\n') \n",
    "\n",
    "    json.dump(processed_review, json_file, ensure_ascii=False, indent=4)\n",
    "\n",
    "with open('processed_reviews.json', 'a', encoding='utf-8') as json_file:\n",
    "    json_file.write('\\n]')\n",
    "\n"
   ]
  },
  {
   "cell_type": "code",
   "execution_count": null,
   "id": "00d3b931",
   "metadata": {},
   "outputs": [],
   "source": []
  }
 ],
 "metadata": {
  "kernelspec": {
   "display_name": "Python 3",
   "language": "python",
   "name": "python3"
  },
  "language_info": {
   "codemirror_mode": {
    "name": "ipython",
    "version": 3
   },
   "file_extension": ".py",
   "mimetype": "text/x-python",
   "name": "python",
   "nbconvert_exporter": "python",
   "pygments_lexer": "ipython3",
   "version": "3.13.0"
  }
 },
 "nbformat": 4,
 "nbformat_minor": 5
}
